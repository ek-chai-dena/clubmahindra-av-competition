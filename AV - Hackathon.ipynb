{
 "cells": [
  {
   "cell_type": "markdown",
   "metadata": {},
   "source": [
    "# Club Mahindra DataOlympics "
   ]
  },
  {
   "cell_type": "code",
   "execution_count": 3,
   "metadata": {},
   "outputs": [],
   "source": [
    "import pandas as pd\n",
    "import numpy as np\n",
    "import matplotlib.pyplot as plt\n",
    "%matplotlib inline\n",
    "import seaborn as sns\n",
    "import datetime\n",
    "from sklearn.metrics import mean_squared_error\n",
    "import math\n",
    "from sklearn.model_selection import GridSearchCV\n",
    "from xgboost import XGBRegressor\n",
    "from sklearn.model_selection import train_test_split\n",
    "from sklearn.model_selection import KFold"
   ]
  },
  {
   "cell_type": "code",
   "execution_count": 4,
   "metadata": {},
   "outputs": [],
   "source": [
    "def binning(col, cut_points, labels=None):\n",
    "  #Define min and max values:\n",
    "    minval = col.min()\n",
    "    maxval = col.max()\n",
    "\n",
    "    #create list by adding min and max to cut_points\n",
    "    break_points = [minval] + cut_points + [maxval]\n",
    "\n",
    "    #if no labels provided, use default labels 0 ... (n-1)\n",
    "    if not labels:\n",
    "        labels = range(len(cut_points)+1)\n",
    "\n",
    "    #Binning using cut function of pandas\n",
    "    colBin = pd.cut(col,bins=break_points,labels=labels,include_lowest=True)\n",
    "    return colBin\n",
    "\n",
    "\n",
    "\n",
    "\n"
   ]
  },
  {
   "cell_type": "code",
   "execution_count": 5,
   "metadata": {},
   "outputs": [],
   "source": [
    "train_df = pd.read_csv('train.csv',\n",
    "                   parse_dates=[1,2,3], \n",
    "                    dayfirst=True)"
   ]
  },
  {
   "cell_type": "code",
   "execution_count": 6,
   "metadata": {},
   "outputs": [],
   "source": [
    "train = train_df.copy()"
   ]
  },
  {
   "cell_type": "code",
   "execution_count": 7,
   "metadata": {
    "scrolled": true
   },
   "outputs": [
    {
     "name": "stdout",
     "output_type": "stream",
     "text": [
      "<class 'pandas.core.frame.DataFrame'>\n",
      "RangeIndex: 5 entries, 0 to 4\n",
      "Data columns (total 24 columns):\n",
      "reservation_id                        5 non-null object\n",
      "booking_date                          5 non-null datetime64[ns]\n",
      "checkin_date                          5 non-null datetime64[ns]\n",
      "checkout_date                         5 non-null datetime64[ns]\n",
      "channel_code                          5 non-null int64\n",
      "main_product_code                     5 non-null int64\n",
      "numberofadults                        5 non-null int64\n",
      "numberofchildren                      5 non-null int64\n",
      "persontravellingid                    5 non-null int64\n",
      "resort_region_code                    5 non-null int64\n",
      "resort_type_code                      5 non-null int64\n",
      "room_type_booked_code                 5 non-null int64\n",
      "roomnights                            5 non-null int64\n",
      "season_holidayed_code                 5 non-null float64\n",
      "state_code_residence                  5 non-null float64\n",
      "state_code_resort                     5 non-null int64\n",
      "total_pax                             5 non-null int64\n",
      "member_age_buckets                    5 non-null object\n",
      "booking_type_code                     5 non-null int64\n",
      "memberid                              5 non-null object\n",
      "cluster_code                          5 non-null object\n",
      "reservationstatusid_code              5 non-null object\n",
      "resort_id                             5 non-null object\n",
      "amount_spent_per_room_night_scaled    5 non-null float64\n",
      "dtypes: datetime64[ns](3), float64(3), int64(12), object(6)\n",
      "memory usage: 1.0+ KB\n"
     ]
    }
   ],
   "source": [
    "train.head().info()"
   ]
  },
  {
   "cell_type": "code",
   "execution_count": 8,
   "metadata": {},
   "outputs": [
    {
     "data": {
      "text/plain": [
       "(341424, 24)"
      ]
     },
     "execution_count": 8,
     "metadata": {},
     "output_type": "execute_result"
    }
   ],
   "source": [
    "train.shape"
   ]
  },
  {
   "cell_type": "code",
   "execution_count": 9,
   "metadata": {},
   "outputs": [
    {
     "data": {
      "text/plain": [
       "reservation_id                           0\n",
       "booking_date                             0\n",
       "checkin_date                             0\n",
       "checkout_date                            0\n",
       "channel_code                             0\n",
       "main_product_code                        0\n",
       "numberofadults                           0\n",
       "numberofchildren                         0\n",
       "persontravellingid                       0\n",
       "resort_region_code                       0\n",
       "resort_type_code                         0\n",
       "room_type_booked_code                    0\n",
       "roomnights                               0\n",
       "season_holidayed_code                  114\n",
       "state_code_residence                  4764\n",
       "state_code_resort                        0\n",
       "total_pax                                0\n",
       "member_age_buckets                       0\n",
       "booking_type_code                        0\n",
       "memberid                                 0\n",
       "cluster_code                             0\n",
       "reservationstatusid_code                 0\n",
       "resort_id                                0\n",
       "amount_spent_per_room_night_scaled       0\n",
       "dtype: int64"
      ]
     },
     "execution_count": 9,
     "metadata": {},
     "output_type": "execute_result"
    }
   ],
   "source": [
    "train.isna().sum()"
   ]
  },
  {
   "cell_type": "markdown",
   "metadata": {},
   "source": [
    "Since number of NA's arent that huge, using forward fill method \n",
    "\n"
   ]
  },
  {
   "cell_type": "code",
   "execution_count": 10,
   "metadata": {},
   "outputs": [],
   "source": [
    "train.state_code_residence.fillna(method = 'ffill',inplace =True)\n",
    "train.season_holidayed_code.fillna(method = 'ffill',inplace= True)"
   ]
  },
  {
   "cell_type": "code",
   "execution_count": 11,
   "metadata": {
    "scrolled": true
   },
   "outputs": [
    {
     "data": {
      "text/plain": [
       "8.0     136762\n",
       "2.0      41714\n",
       "1.0      28408\n",
       "7.0      26252\n",
       "5.0      21263\n",
       "4.0      16188\n",
       "9.0      12501\n",
       "15.0      9629\n",
       "10.0      9521\n",
       "6.0       6506\n",
       "12.0      6173\n",
       "3.0       4064\n",
       "23.0      3893\n",
       "14.0      3165\n",
       "16.0      2395\n",
       "13.0      1798\n",
       "21.0      1717\n",
       "20.0      1492\n",
       "18.0      1445\n",
       "19.0      1096\n",
       "26.0      1076\n",
       "25.0       852\n",
       "27.0       820\n",
       "11.0       719\n",
       "28.0       555\n",
       "22.0       436\n",
       "24.0       385\n",
       "30.0       146\n",
       "29.0       103\n",
       "33.0        91\n",
       "31.0        60\n",
       "37.0        59\n",
       "32.0        57\n",
       "34.0        48\n",
       "35.0        17\n",
       "36.0        12\n",
       "38.0         6\n",
       "Name: state_code_residence, dtype: int64"
      ]
     },
     "execution_count": 11,
     "metadata": {},
     "output_type": "execute_result"
    }
   ],
   "source": [
    "train.state_code_residence.value_counts()"
   ]
  },
  {
   "cell_type": "code",
   "execution_count": 12,
   "metadata": {},
   "outputs": [],
   "source": [
    "#working with checkin date\n",
    "train['checkin_year'] = train['checkin_date'].dt.year\n",
    "train['checkin_month'] = train['checkin_date'].dt.month\n",
    "train['checkin_day'] = train['checkin_date'].dt.day\n",
    "train['checkin_dow'] = train['checkin_date'].dt.dayofweek"
   ]
  },
  {
   "cell_type": "code",
   "execution_count": 13,
   "metadata": {
    "scrolled": false
   },
   "outputs": [
    {
     "data": {
      "text/plain": [
       "2017    87841\n",
       "2018    83515\n",
       "2016    82340\n",
       "2015    75088\n",
       "2019    12628\n",
       "2012       12\n",
       "Name: checkin_year, dtype: int64"
      ]
     },
     "execution_count": 13,
     "metadata": {},
     "output_type": "execute_result"
    }
   ],
   "source": [
    "train['checkin_year'].value_counts()"
   ]
  },
  {
   "cell_type": "code",
   "execution_count": 14,
   "metadata": {},
   "outputs": [],
   "source": [
    "#using checkin year as a category rather than a numerical feature\n",
    "train['checkin_year'] = train['checkin_year'].astype('category')"
   ]
  },
  {
   "cell_type": "code",
   "execution_count": 15,
   "metadata": {},
   "outputs": [
    {
     "data": {
      "text/plain": [
       "1     34110\n",
       "5     30786\n",
       "2     30167\n",
       "4     30052\n",
       "12    29822\n",
       "3     28773\n",
       "6     28479\n",
       "10    27920\n",
       "11    27230\n",
       "7     25432\n",
       "9     25026\n",
       "8     23627\n",
       "Name: checkin_month, dtype: int64"
      ]
     },
     "execution_count": 15,
     "metadata": {},
     "output_type": "execute_result"
    }
   ],
   "source": [
    "train['checkin_month'].value_counts()"
   ]
  },
  {
   "cell_type": "markdown",
   "metadata": {},
   "source": [
    "The competition was based about a club chain in India, hence I used the logic and data about various seasons that the indan subcontinent has"
   ]
  },
  {
   "cell_type": "code",
   "execution_count": 16,
   "metadata": {},
   "outputs": [],
   "source": [
    "\n",
    "winter = [1,2,12]\n",
    "summer = [5,6]\n",
    "monsoon = [7,8,9]\n",
    "post_monsoon = [10,11]\n",
    "just_right = [3,4]"
   ]
  },
  {
   "cell_type": "code",
   "execution_count": 17,
   "metadata": {},
   "outputs": [],
   "source": [
    "train['season'] = 0\n",
    "train.loc[train['checkin_month'].isin(winter),'season'] = 'winter'\n",
    "train.loc[train['checkin_month'].isin(summer),'season'] = 'summer'\n",
    "train.loc[train['checkin_month'].isin(monsoon),'season'] = 'monsoon'\n",
    "train.loc[train['checkin_month'].isin(post_monsoon),'season'] = 'post_monsoon'\n",
    "train.loc[train['checkin_month'].isin(just_right),'season'] = 'just_right' #Perasonal choice and it didnt fit well with other categories\n"
   ]
  },
  {
   "cell_type": "code",
   "execution_count": 18,
   "metadata": {},
   "outputs": [],
   "source": [
    "train['season'] = train['season'].astype('category')"
   ]
  },
  {
   "cell_type": "code",
   "execution_count": 19,
   "metadata": {},
   "outputs": [
    {
     "data": {
      "text/plain": [
       "winter          94099\n",
       "monsoon         74085\n",
       "summer          59265\n",
       "just_right      58825\n",
       "post_monsoon    55150\n",
       "Name: season, dtype: int64"
      ]
     },
     "execution_count": 19,
     "metadata": {},
     "output_type": "execute_result"
    }
   ],
   "source": [
    "train.season.value_counts()"
   ]
  },
  {
   "cell_type": "code",
   "execution_count": 20,
   "metadata": {
    "scrolled": true
   },
   "outputs": [
    {
     "data": {
      "text/plain": [
       "4    56621\n",
       "6    53425\n",
       "5    52000\n",
       "0    47723\n",
       "3    45002\n",
       "1    43348\n",
       "2    43305\n",
       "Name: checkin_dow, dtype: int64"
      ]
     },
     "execution_count": 20,
     "metadata": {},
     "output_type": "execute_result"
    }
   ],
   "source": [
    "train['checkin_dow'].value_counts()\n",
    "#0 is monday\n"
   ]
  },
  {
   "cell_type": "markdown",
   "metadata": {},
   "source": [
    "Since people usually travel on weekends i divided the data based on that"
   ]
  },
  {
   "cell_type": "code",
   "execution_count": 21,
   "metadata": {},
   "outputs": [],
   "source": [
    "weekday = [5,6,7] "
   ]
  },
  {
   "cell_type": "code",
   "execution_count": 22,
   "metadata": {},
   "outputs": [],
   "source": [
    "train['weekend'] = 0\n",
    "train.loc[train['checkin_dow'].isin(weekday),'weekend'] = 1"
   ]
  },
  {
   "cell_type": "code",
   "execution_count": 23,
   "metadata": {},
   "outputs": [
    {
     "data": {
      "text/plain": [
       "0    235999\n",
       "1    105425\n",
       "Name: weekend, dtype: int64"
      ]
     },
     "execution_count": 23,
     "metadata": {},
     "output_type": "execute_result"
    }
   ],
   "source": [
    "train['weekend'].value_counts()"
   ]
  },
  {
   "cell_type": "markdown",
   "metadata": {},
   "source": [
    "I wanted to check the logic weather people showed a difference in spending based on the time of the month they travel in considering india has first week payment each month"
   ]
  },
  {
   "cell_type": "code",
   "execution_count": 24,
   "metadata": {},
   "outputs": [],
   "source": [
    "\n",
    "start = list(range(1,16))\n",
    "end = list(range(15,32))"
   ]
  },
  {
   "cell_type": "code",
   "execution_count": 25,
   "metadata": {},
   "outputs": [],
   "source": [
    "train['time_of_month']=0\n",
    "train.loc[train['checkin_day'].isin(end),'time_of_month'] = 1\n"
   ]
  },
  {
   "cell_type": "code",
   "execution_count": 26,
   "metadata": {},
   "outputs": [
    {
     "data": {
      "text/plain": [
       "1    185884\n",
       "0    155540\n",
       "Name: time_of_month, dtype: int64"
      ]
     },
     "execution_count": 26,
     "metadata": {},
     "output_type": "execute_result"
    }
   ],
   "source": [
    "train['time_of_month'].value_counts()"
   ]
  },
  {
   "cell_type": "code",
   "execution_count": 27,
   "metadata": {
    "scrolled": true
   },
   "outputs": [
    {
     "data": {
      "text/plain": [
       "1    161225\n",
       "3    128042\n",
       "2     52157\n",
       "Name: channel_code, dtype: int64"
      ]
     },
     "execution_count": 27,
     "metadata": {},
     "output_type": "execute_result"
    }
   ],
   "source": [
    "train.channel_code.value_counts()"
   ]
  },
  {
   "cell_type": "code",
   "execution_count": 28,
   "metadata": {},
   "outputs": [],
   "source": [
    "train['channel_code'] = train['channel_code'].astype('category')"
   ]
  },
  {
   "cell_type": "markdown",
   "metadata": {},
   "source": [
    "How long ago did the customer book their travel? "
   ]
  },
  {
   "cell_type": "code",
   "execution_count": 29,
   "metadata": {},
   "outputs": [],
   "source": [
    "train['diff1'] =  train.booking_date-train.checkin_date\n",
    "train['diff1'] = train['diff1'].astype(str)\n",
    "train['diff1'] = train['diff1'].str.split(' ').str[0]\n",
    "train['diff1'] = train['diff1'].astype('int') * -1"
   ]
  },
  {
   "cell_type": "markdown",
   "metadata": {
    "scrolled": false
   },
   "source": [
    "There were a few dates where checkin year is 2012 and booking is 2018 (Which was maybe filled by the club where they didnt have booking date information)\n",
    "Converting those valeus to 0"
   ]
  },
  {
   "cell_type": "code",
   "execution_count": 30,
   "metadata": {
    "scrolled": true
   },
   "outputs": [],
   "source": [
    "train.loc[(train['diff1']<0),'diff1'] = 0"
   ]
  },
  {
   "cell_type": "markdown",
   "metadata": {},
   "source": [
    "Looking at the histogram it is clear people tend to book closer to their visiting dates"
   ]
  },
  {
   "cell_type": "code",
   "execution_count": 31,
   "metadata": {
    "scrolled": true
   },
   "outputs": [
    {
     "data": {
      "text/plain": [
       "(array([64594., 83565., 33810., 26721., 19596., 18533., 20260., 34581.,\n",
       "        29515., 10249.]),\n",
       " array([  0. ,  12.6,  25.2,  37.8,  50.4,  63. ,  75.6,  88.2, 100.8,\n",
       "        113.4, 126. ]),\n",
       " <a list of 10 Patch objects>)"
      ]
     },
     "execution_count": 31,
     "metadata": {},
     "output_type": "execute_result"
    },
    {
     "data": {
      "image/png": "[encoded data removed]",
      "text/plain": [
       "<Figure size 432x288 with 1 Axes>"
      ]
     },
     "metadata": {
      "needs_background": "light"
     },
     "output_type": "display_data"
    }
   ],
   "source": [
    "plt.hist(train.diff1)"
   ]
  },
  {
   "cell_type": "markdown",
   "metadata": {},
   "source": [
    "Total amounts of days the customer spent in the club"
   ]
  },
  {
   "cell_type": "code",
   "execution_count": 32,
   "metadata": {},
   "outputs": [],
   "source": [
    "train['checkin_checkout'] = train.checkout_date-train.checkin_date\n",
    "train['checkin_checkout'] = train['checkin_checkout'].astype(str)\n",
    "train['checkin_checkout']= train['checkin_checkout'].str.split(' ').str[0]\n",
    "train['checkin_checkout'] = train['checkin_checkout'].astype(int)"
   ]
  },
  {
   "cell_type": "code",
   "execution_count": 33,
   "metadata": {},
   "outputs": [
    {
     "data": {
      "text/plain": [
       "(array([1.84552e+05, 1.43073e+05, 9.50900e+03, 4.07900e+03, 1.65000e+02,\n",
       "        2.70000e+01, 1.00000e+01, 7.00000e+00, 0.00000e+00, 0.00000e+00,\n",
       "        0.00000e+00, 0.00000e+00, 1.00000e+00, 0.00000e+00, 1.00000e+00]),\n",
       " array([ 1.        ,  2.66666667,  4.33333333,  6.        ,  7.66666667,\n",
       "         9.33333333, 11.        , 12.66666667, 14.33333333, 16.        ,\n",
       "        17.66666667, 19.33333333, 21.        , 22.66666667, 24.33333333,\n",
       "        26.        ]),\n",
       " <a list of 15 Patch objects>)"
      ]
     },
     "execution_count": 33,
     "metadata": {},
     "output_type": "execute_result"
    },
    {
     "data": {
      "image/png": "[encoded data removed]",
      "text/plain": [
       "<Figure size 432x288 with 1 Axes>"
      ]
     },
     "metadata": {
      "needs_background": "light"
     },
     "output_type": "display_data"
    }
   ],
   "source": [
    "plt.hist(train['checkin_checkout'], bins = 15 )"
   ]
  },
  {
   "cell_type": "code",
   "execution_count": 34,
   "metadata": {
    "scrolled": false
   },
   "outputs": [
    {
     "data": {
      "text/plain": [
       "2    177615\n",
       "3     86247\n",
       "1     57822\n",
       "4     18619\n",
       "7      1121\n",
       "Name: main_product_code, dtype: int64"
      ]
     },
     "execution_count": 34,
     "metadata": {},
     "output_type": "execute_result"
    }
   ],
   "source": [
    "train.main_product_code.value_counts()"
   ]
  },
  {
   "cell_type": "code",
   "execution_count": 35,
   "metadata": {},
   "outputs": [],
   "source": [
    "train['main_product_code'] = train['main_product_code'].astype('category')"
   ]
  },
  {
   "cell_type": "code",
   "execution_count": 36,
   "metadata": {},
   "outputs": [
    {
     "data": {
      "text/plain": [
       "2     149414\n",
       "4      84468\n",
       "3      63247\n",
       "6      20052\n",
       "5       9849\n",
       "8       5198\n",
       "7       2673\n",
       "9       1445\n",
       "1       1280\n",
       "10      1256\n",
       "12      1010\n",
       "11       357\n",
       "16       293\n",
       "14       216\n",
       "15       207\n",
       "13       120\n",
       "24        83\n",
       "20        64\n",
       "18        62\n",
       "0         27\n",
       "17        20\n",
       "22        19\n",
       "19        12\n",
       "25        12\n",
       "21        11\n",
       "23        10\n",
       "32        10\n",
       "30         9\n",
       "Name: numberofadults, dtype: int64"
      ]
     },
     "execution_count": 36,
     "metadata": {},
     "output_type": "execute_result"
    }
   ],
   "source": [
    "train.numberofadults.value_counts()"
   ]
  },
  {
   "cell_type": "code",
   "execution_count": 37,
   "metadata": {},
   "outputs": [],
   "source": [
    "#Binning Number of adults:\n",
    "cut_points = [2,3,4,6,10,20]\n",
    "labels = [\"Under2\",\"Under3\",\"Under4\",'Under6','Under10','Under20','Above20']\n",
    "train['numberofadults_bins'] = binning(train[\"numberofadults\"], cut_points, labels)\n",
    "train['numberofadults_bins'] =train['numberofadults_bins'].astype('category')\n",
    "\n",
    "\n"
   ]
  },
  {
   "cell_type": "code",
   "execution_count": 38,
   "metadata": {
    "scrolled": true
   },
   "outputs": [
    {
     "data": {
      "text/plain": [
       "0     264250\n",
       "1      37766\n",
       "2      35164\n",
       "3       2137\n",
       "4       1658\n",
       "6        187\n",
       "5        181\n",
       "8         44\n",
       "7         20\n",
       "10        14\n",
       "12         2\n",
       "13         1\n",
       "Name: numberofchildren, dtype: int64"
      ]
     },
     "execution_count": 38,
     "metadata": {},
     "output_type": "execute_result"
    }
   ],
   "source": [
    "train.numberofchildren.value_counts()"
   ]
  },
  {
   "cell_type": "code",
   "execution_count": null,
   "metadata": {},
   "outputs": [],
   "source": []
  },
  {
   "cell_type": "code",
   "execution_count": 39,
   "metadata": {},
   "outputs": [],
   "source": [
    "#Binning Number of children:\n",
    "cut_points = [0.9,1,2,4]\n",
    "labels = [\"None\",\"Under1\",'Under2',\"Under4\",'Above7']\n",
    "train['numberofchildren_bins'] = binning(train[\"numberofchildren\"], cut_points, labels)\n",
    "train['numberofchildren_bins'] =train['numberofchildren_bins'].astype('category')\n",
    "\n",
    "\n",
    "\n"
   ]
  },
  {
   "cell_type": "code",
   "execution_count": 40,
   "metadata": {
    "scrolled": true
   },
   "outputs": [
    {
     "data": {
      "text/plain": [
       "45      267307\n",
       "47       31580\n",
       "46       30569\n",
       "4752     10556\n",
       "4753      1391\n",
       "4995        21\n",
       "Name: persontravellingid, dtype: int64"
      ]
     },
     "execution_count": 40,
     "metadata": {},
     "output_type": "execute_result"
    }
   ],
   "source": [
    "train.persontravellingid.value_counts()"
   ]
  },
  {
   "cell_type": "code",
   "execution_count": 41,
   "metadata": {},
   "outputs": [],
   "source": [
    " train['persontravellingid'] = train['persontravellingid'].astype('category')"
   ]
  },
  {
   "cell_type": "code",
   "execution_count": 42,
   "metadata": {},
   "outputs": [
    {
     "data": {
      "text/plain": [
       "1    143790\n",
       "2    131361\n",
       "3     66273\n",
       "Name: resort_region_code, dtype: int64"
      ]
     },
     "execution_count": 42,
     "metadata": {},
     "output_type": "execute_result"
    }
   ],
   "source": [
    "train.resort_region_code.value_counts()"
   ]
  },
  {
   "cell_type": "code",
   "execution_count": 43,
   "metadata": {},
   "outputs": [],
   "source": [
    " train['resort_region_code'] = train['resort_region_code'].astype('category')"
   ]
  },
  {
   "cell_type": "code",
   "execution_count": 44,
   "metadata": {
    "scrolled": true
   },
   "outputs": [
    {
     "data": {
      "text/plain": [
       "1    154324\n",
       "2     74154\n",
       "3     48681\n",
       "5     26706\n",
       "4     21619\n",
       "7     11478\n",
       "0      4462\n",
       "Name: resort_type_code, dtype: int64"
      ]
     },
     "execution_count": 44,
     "metadata": {},
     "output_type": "execute_result"
    }
   ],
   "source": [
    "train.resort_type_code.value_counts()"
   ]
  },
  {
   "cell_type": "code",
   "execution_count": 45,
   "metadata": {},
   "outputs": [],
   "source": [
    " train['resort_type_code'] = train['resort_type_code'].astype('category')"
   ]
  },
  {
   "cell_type": "code",
   "execution_count": 46,
   "metadata": {},
   "outputs": [
    {
     "data": {
      "text/plain": [
       "3    137439\n",
       "2    113459\n",
       "4     83554\n",
       "1      5374\n",
       "5      1588\n",
       "6        10\n",
       "Name: room_type_booked_code, dtype: int64"
      ]
     },
     "execution_count": 46,
     "metadata": {},
     "output_type": "execute_result"
    }
   ],
   "source": [
    "train.room_type_booked_code.value_counts()"
   ]
  },
  {
   "cell_type": "code",
   "execution_count": 47,
   "metadata": {},
   "outputs": [],
   "source": [
    "train['room_type_booked_code'] = train['room_type_booked_code'].astype('category')"
   ]
  },
  {
   "cell_type": "code",
   "execution_count": 48,
   "metadata": {
    "scrolled": true
   },
   "outputs": [
    {
     "data": {
      "text/plain": [
       " 3     94256\n",
       " 2     85105\n",
       " 4     58487\n",
       " 6     36932\n",
       " 1     25777\n",
       " 5     12303\n",
       " 8     10716\n",
       " 9      5107\n",
       " 12     3546\n",
       " 10     2912\n",
       " 7      2883\n",
       " 15      805\n",
       " 16      592\n",
       " 14      496\n",
       " 11      322\n",
       " 18      312\n",
       " 20      215\n",
       " 13      119\n",
       " 21       93\n",
       " 24       89\n",
       " 17       59\n",
       " 30       57\n",
       " 28       50\n",
       " 27       27\n",
       " 19       27\n",
       " 23       19\n",
       " 22       15\n",
       " 25       15\n",
       " 36       12\n",
       " 31       12\n",
       " 26       11\n",
       " 32        9\n",
       " 35        8\n",
       " 47        6\n",
       " 29        5\n",
       " 34        5\n",
       " 37        5\n",
       " 39        5\n",
       " 42        4\n",
       " 33        2\n",
       "-45        1\n",
       " 60        1\n",
       " 41        1\n",
       " 0         1\n",
       "Name: roomnights, dtype: int64"
      ]
     },
     "execution_count": 48,
     "metadata": {},
     "output_type": "execute_result"
    }
   ],
   "source": [
    "train.roomnights.value_counts()"
   ]
  },
  {
   "cell_type": "code",
   "execution_count": 49,
   "metadata": {},
   "outputs": [],
   "source": [
    "#Binning Number of nights spent:\n",
    "cut_points = [1,2,3,4,5,6,8,10,15,20]\n",
    "labels = [\"onenight\",\"twonights\",'threenights',\"fournights\",'fivenights','sixnights'\n",
    "          ,'lessthan8','lessthan10','lessthan15','lessthan20','morethan20']\n",
    "train['nights_bin'] = binning(train[\"roomnights\"], cut_points, labels)\n",
    "train['nights_bin'] =train['nights_bin'].astype('category')"
   ]
  },
  {
   "cell_type": "code",
   "execution_count": 50,
   "metadata": {
    "scrolled": false
   },
   "outputs": [
    {
     "data": {
      "text/plain": [
       "2.0    126822\n",
       "3.0    118217\n",
       "4.0     69399\n",
       "1.0     26986\n",
       "Name: season_holidayed_code, dtype: int64"
      ]
     },
     "execution_count": 50,
     "metadata": {},
     "output_type": "execute_result"
    }
   ],
   "source": [
    "train.season_holidayed_code.value_counts()\n",
    "\n"
   ]
  },
  {
   "cell_type": "code",
   "execution_count": 51,
   "metadata": {},
   "outputs": [],
   "source": [
    "train['season_holidayed_code'] = train['season_holidayed_code'].astype('category')"
   ]
  },
  {
   "cell_type": "code",
   "execution_count": 52,
   "metadata": {
    "scrolled": true
   },
   "outputs": [
    {
     "data": {
      "text/plain": [
       "8.0     136762\n",
       "2.0      41714\n",
       "1.0      28408\n",
       "7.0      26252\n",
       "5.0      21263\n",
       "4.0      16188\n",
       "9.0      12501\n",
       "15.0      9629\n",
       "10.0      9521\n",
       "6.0       6506\n",
       "12.0      6173\n",
       "3.0       4064\n",
       "23.0      3893\n",
       "14.0      3165\n",
       "16.0      2395\n",
       "13.0      1798\n",
       "21.0      1717\n",
       "20.0      1492\n",
       "18.0      1445\n",
       "19.0      1096\n",
       "26.0      1076\n",
       "25.0       852\n",
       "27.0       820\n",
       "11.0       719\n",
       "28.0       555\n",
       "22.0       436\n",
       "24.0       385\n",
       "30.0       146\n",
       "29.0       103\n",
       "33.0        91\n",
       "31.0        60\n",
       "37.0        59\n",
       "32.0        57\n",
       "34.0        48\n",
       "35.0        17\n",
       "36.0        12\n",
       "38.0         6\n",
       "Name: state_code_residence, dtype: int64"
      ]
     },
     "execution_count": 52,
     "metadata": {},
     "output_type": "execute_result"
    }
   ],
   "source": [
    "train.state_code_residence.value_counts()\n",
    "# look into frequency binning"
   ]
  },
  {
   "cell_type": "code",
   "execution_count": 53,
   "metadata": {},
   "outputs": [],
   "source": [
    "train['state_code_residence'] = train['state_code_residence'].astype('category')"
   ]
  },
  {
   "cell_type": "code",
   "execution_count": 54,
   "metadata": {},
   "outputs": [
    {
     "data": {
      "text/plain": [
       "Index(['reservation_id', 'booking_date', 'checkin_date', 'checkout_date',\n",
       "       'channel_code', 'main_product_code', 'numberofadults',\n",
       "       'numberofchildren', 'persontravellingid', 'resort_region_code',\n",
       "       'resort_type_code', 'room_type_booked_code', 'roomnights',\n",
       "       'season_holidayed_code', 'state_code_residence', 'state_code_resort',\n",
       "       'total_pax', 'member_age_buckets', 'booking_type_code', 'memberid',\n",
       "       'cluster_code', 'reservationstatusid_code', 'resort_id',\n",
       "       'amount_spent_per_room_night_scaled', 'checkin_year', 'checkin_month',\n",
       "       'checkin_day', 'checkin_dow', 'season', 'weekend', 'time_of_month',\n",
       "       'diff1', 'checkin_checkout', 'numberofadults_bins',\n",
       "       'numberofchildren_bins', 'nights_bin'],\n",
       "      dtype='object')"
      ]
     },
     "execution_count": 54,
     "metadata": {},
     "output_type": "execute_result"
    }
   ],
   "source": [
    "train.columns"
   ]
  },
  {
   "cell_type": "code",
   "execution_count": 55,
   "metadata": {},
   "outputs": [
    {
     "data": {
      "text/plain": [
       "1     59830\n",
       "2     55883\n",
       "6     50869\n",
       "7     37809\n",
       "3     33489\n",
       "5     32784\n",
       "9     28115\n",
       "11    18271\n",
       "4     14820\n",
       "10     5684\n",
       "13     3870\n",
       "Name: state_code_resort, dtype: int64"
      ]
     },
     "execution_count": 55,
     "metadata": {},
     "output_type": "execute_result"
    }
   ],
   "source": [
    "train.state_code_resort.value_counts()"
   ]
  },
  {
   "cell_type": "code",
   "execution_count": 56,
   "metadata": {},
   "outputs": [],
   "source": [
    "train['state_code_resort'] = train['state_code_resort'].astype('category')"
   ]
  },
  {
   "cell_type": "code",
   "execution_count": 57,
   "metadata": {
    "scrolled": true
   },
   "outputs": [
    {
     "data": {
      "text/plain": [
       "2     106046\n",
       "3      98504\n",
       "4      97386\n",
       "5      20672\n",
       "6       8350\n",
       "1       5912\n",
       "7       3102\n",
       "8       1093\n",
       "9        229\n",
       "10        74\n",
       "11        18\n",
       "0         16\n",
       "12        13\n",
       "21         3\n",
       "13         2\n",
       "20         2\n",
       "14         1\n",
       "24         1\n",
       "Name: total_pax, dtype: int64"
      ]
     },
     "execution_count": 57,
     "metadata": {},
     "output_type": "execute_result"
    }
   ],
   "source": [
    "train.total_pax.value_counts()"
   ]
  },
  {
   "cell_type": "code",
   "execution_count": 58,
   "metadata": {},
   "outputs": [],
   "source": [
    "#Binning age:\n",
    "cut_points = [2,3,4,5,8]\n",
    "labels = [\"Under2\",\"Under3\",'Under4',\"Under5\",\"Under8\",'Above8']\n",
    "train['total_bins'] = binning(train[\"total_pax\"], cut_points, labels)\n",
    "train['total_bins'] =train['total_bins'].astype('category')\n",
    "\n",
    "\n",
    "\n",
    "\n"
   ]
  },
  {
   "cell_type": "code",
   "execution_count": 59,
   "metadata": {
    "scrolled": false
   },
   "outputs": [
    {
     "data": {
      "text/plain": [
       "D    67618\n",
       "E    66701\n",
       "F    50967\n",
       "C    45192\n",
       "H    38548\n",
       "G    36082\n",
       "B    19430\n",
       "I     8454\n",
       "A     7054\n",
       "J     1378\n",
       "Name: member_age_buckets, dtype: int64"
      ]
     },
     "execution_count": 59,
     "metadata": {},
     "output_type": "execute_result"
    }
   ],
   "source": [
    "train.member_age_buckets.value_counts()"
   ]
  },
  {
   "cell_type": "code",
   "execution_count": 60,
   "metadata": {},
   "outputs": [],
   "source": [
    "train['member_age_buckets'] = train['member_age_buckets'].astype('category')"
   ]
  },
  {
   "cell_type": "code",
   "execution_count": 61,
   "metadata": {
    "scrolled": true
   },
   "outputs": [
    {
     "data": {
      "text/plain": [
       "1    299016\n",
       "2     42408\n",
       "Name: booking_type_code, dtype: int64"
      ]
     },
     "execution_count": 61,
     "metadata": {},
     "output_type": "execute_result"
    }
   ],
   "source": [
    "train.booking_type_code.value_counts()"
   ]
  },
  {
   "cell_type": "code",
   "execution_count": 62,
   "metadata": {},
   "outputs": [],
   "source": [
    "train.loc[train['booking_type_code']==2,'booking_type_code'] = 0"
   ]
  },
  {
   "cell_type": "code",
   "execution_count": 63,
   "metadata": {},
   "outputs": [],
   "source": [
    "train.drop('memberid',axis=1,inplace =True)\n",
    "train.drop('reservation_id',axis=1,inplace =True)"
   ]
  },
  {
   "cell_type": "code",
   "execution_count": 64,
   "metadata": {},
   "outputs": [
    {
     "data": {
      "text/plain": [
       "F    120623\n",
       "E     59830\n",
       "D     55883\n",
       "C     37809\n",
       "B     37669\n",
       "A     29610\n",
       "Name: cluster_code, dtype: int64"
      ]
     },
     "execution_count": 64,
     "metadata": {},
     "output_type": "execute_result"
    }
   ],
   "source": [
    "train.cluster_code.value_counts()"
   ]
  },
  {
   "cell_type": "code",
   "execution_count": 65,
   "metadata": {},
   "outputs": [],
   "source": [
    "train['cluster_code'] = train['cluster_code'].astype('category')"
   ]
  },
  {
   "cell_type": "code",
   "execution_count": 66,
   "metadata": {},
   "outputs": [
    {
     "data": {
      "text/plain": [
       "A    312481\n",
       "B     14811\n",
       "C     14131\n",
       "D         1\n",
       "Name: reservationstatusid_code, dtype: int64"
      ]
     },
     "execution_count": 66,
     "metadata": {},
     "output_type": "execute_result"
    }
   ],
   "source": [
    "train.reservationstatusid_code.value_counts()"
   ]
  },
  {
   "cell_type": "code",
   "execution_count": 67,
   "metadata": {},
   "outputs": [
    {
     "data": {
      "text/plain": [
       "array([1, 0])"
      ]
     },
     "execution_count": 67,
     "metadata": {},
     "output_type": "execute_result"
    }
   ],
   "source": [
    "train.booking_type_code.unique()"
   ]
  },
  {
   "cell_type": "code",
   "execution_count": 68,
   "metadata": {},
   "outputs": [],
   "source": [
    "#Only 1 'D' in the train set provided and none in the. test set, converting that to the most common \n",
    "train.loc[train['reservationstatusid_code']=='D','reservationstatusid_code'] = 'A'"
   ]
  },
  {
   "cell_type": "code",
   "execution_count": 69,
   "metadata": {},
   "outputs": [],
   "source": [
    "train['reservationstatusid_code'] = train['reservationstatusid_code'].astype('category')"
   ]
  },
  {
   "cell_type": "code",
   "execution_count": 70,
   "metadata": {
    "scrolled": true
   },
   "outputs": [
    {
     "data": {
      "text/plain": [
       "d4735e3a265e16eee03f59718b9b5d03019c07d8b6c51f90da3a666eec13ab35    35331\n",
       "b17ef6d19c7a5b1ee83b907c595526dcb1eb06db8227d650d5dda0a9f4ce8cd9    28864\n",
       "9400f1b21cb527d7fa3d3eabba93557a18ebe7a2ca4e471cfe5e4c5b4ca7f767    22344\n",
       "49d180ecf56132819571bf39d9b7b342522a2ac6d23c1418d3338251bfe469c8    22005\n",
       "6208ef0f7750c111548cf90b6ea1d0d0a66f6bff40dbef07cb45ec436263c7d6    19001\n",
       "6b86b273ff34fce19d6b804eff5a3f5747ada4eaa22f1d49c01e52ddb7875b4b    18780\n",
       "e29c9c180c6279b0b02abd6a1801c7c04082cf486ec027aa13515e4f3884bb6b    18271\n",
       "da4ea2a5506f2693eae190d9360a1f31793c98a1adade51d93533a6f520ace1c    15465\n",
       "624b60c58c9d8bfb6ff1886c2fd605d2adeb6ea4da576068201b6c6958ce93f4    12175\n",
       "e7f6c011776e8db7cd330b54174fd76f7d0216b612387a5ffcfb81e6f0919683    12074\n",
       "4ec9599fc203d176a301536c2e091a19bc852759b255bd6818810a42c5fed14a    12065\n",
       "ff5a1ae012afa5d4c889c50ad427aaf545d31a4fac04ffc1c4d03d403ba4250a    11478\n",
       "c75cb66ae28d8ebc6eded002c28a8ba0d06d3a78c6b5cbf9b2ade051f0775ac4    10621\n",
       "535fa30d7e25dd8a49f1536779734ec8286108d115da5045d77f3b4185d8f790    10168\n",
       "7902699be42c8a8e46fbbb4501726517e86b22c56a189f7625a6da49081b2451     9794\n",
       "9f14025af0065b30e47e23ebb3b491d39ae8ed17d33739e5ff3827ffb3634953     8683\n",
       "c6f3ac57944a531490cd39902d0f777715fd005efac9a30622d5f5205e7f6894     8633\n",
       "3e1e967e9b793e908f8eae83c74dba9bcccce6a5535b4b462bd9994537bfe15c     7490\n",
       "81b8a03f97e8787c53fe1a86bda042b6f0de9b0ec9c09357e107c99ba4d6948a     5917\n",
       "48449a14a4ff7d79bb7a1b6f3d488eba397c36ef25634c111b49baf362511afc     5711\n",
       "0b918943df0962bc7a1824c0555a389347b4febdc7cf9d1254406d80ce44e3f9     5684\n",
       "670671cd97404156226e507973f2ab8330d3022ca96e0c93bdbdb320c41adcaf     5527\n",
       "39fa9ec190eee7b6f4dff1100d6343e10918d044c75eac8f9e9a2596173f80c9     5398\n",
       "ef2d127de37b942baad06145e54b0c619a1f22327b2ebbcfbec78f5564afe39d     5309\n",
       "a68b412c4282555f15546cf6e1fc42893b7e07f271557ceb021821098dd66c1b     4462\n",
       "f5ca38f748a1d6eaf726b8a42fb575c3c71f1864a8143301782de13da2d9202b     4210\n",
       "7f2253d7e228b22a08bda1f09c516f6fead81df6536eb02fa991a34bb38d9be8     3918\n",
       "4e07408562bedb8b60ce05c1decfe3ad16b72230967de01f640b7e4729b49fce     3879\n",
       "8722616204217eddb39e7df969e0698aed8e599ba62ed2de1ce49b03ade0fede     3870\n",
       "98a3ab7c340e8a033e7b37b6ef9428751581760af67bbab2b9e05d4964a8874a     1551\n",
       "4b227777d4dd1fc61c6f884f48641d02b4d121d3fd328cb08b5531fcacdabf8a     1421\n",
       "3fdba35f04dc8c462986c992bcf875546257113072a909c162f7e470e581e278     1325\n",
       "Name: resort_id, dtype: int64"
      ]
     },
     "execution_count": 70,
     "metadata": {},
     "output_type": "execute_result"
    }
   ],
   "source": [
    "train.resort_id.value_counts()"
   ]
  },
  {
   "cell_type": "code",
   "execution_count": 71,
   "metadata": {},
   "outputs": [],
   "source": [
    "train['resort_id'] = train['resort_id'].astype('category')"
   ]
  },
  {
   "cell_type": "code",
   "execution_count": 72,
   "metadata": {},
   "outputs": [
    {
     "name": "stdout",
     "output_type": "stream",
     "text": [
      "<class 'pandas.core.frame.DataFrame'>\n",
      "RangeIndex: 341424 entries, 0 to 341423\n",
      "Data columns (total 35 columns):\n",
      "booking_date                          341424 non-null datetime64[ns]\n",
      "checkin_date                          341424 non-null datetime64[ns]\n",
      "checkout_date                         341424 non-null datetime64[ns]\n",
      "channel_code                          341424 non-null category\n",
      "main_product_code                     341424 non-null category\n",
      "numberofadults                        341424 non-null int64\n",
      "numberofchildren                      341424 non-null int64\n",
      "persontravellingid                    341424 non-null category\n",
      "resort_region_code                    341424 non-null category\n",
      "resort_type_code                      341424 non-null category\n",
      "room_type_booked_code                 341424 non-null category\n",
      "roomnights                            341424 non-null int64\n",
      "season_holidayed_code                 341424 non-null category\n",
      "state_code_residence                  341424 non-null category\n",
      "state_code_resort                     341424 non-null category\n",
      "total_pax                             341424 non-null int64\n",
      "member_age_buckets                    341424 non-null category\n",
      "booking_type_code                     341424 non-null int64\n",
      "cluster_code                          341424 non-null category\n",
      "reservationstatusid_code              341424 non-null category\n",
      "resort_id                             341424 non-null category\n",
      "amount_spent_per_room_night_scaled    341424 non-null float64\n",
      "checkin_year                          341424 non-null category\n",
      "checkin_month                         341424 non-null int64\n",
      "checkin_day                           341424 non-null int64\n",
      "checkin_dow                           341424 non-null int64\n",
      "season                                341424 non-null category\n",
      "weekend                               341424 non-null int64\n",
      "time_of_month                         341424 non-null int64\n",
      "diff1                                 341424 non-null int64\n",
      "checkin_checkout                      341424 non-null int64\n",
      "numberofadults_bins                   341424 non-null category\n",
      "numberofchildren_bins                 341424 non-null category\n",
      "nights_bin                            341424 non-null category\n",
      "total_bins                            341424 non-null category\n",
      "dtypes: category(19), datetime64[ns](3), float64(1), int64(12)\n",
      "memory usage: 47.9 MB\n"
     ]
    }
   ],
   "source": [
    "train.info()"
   ]
  },
  {
   "cell_type": "code",
   "execution_count": 73,
   "metadata": {},
   "outputs": [],
   "source": [
    "train1 = train.sample(frac=0.3, replace=False, random_state=1)"
   ]
  },
  {
   "cell_type": "code",
   "execution_count": 74,
   "metadata": {},
   "outputs": [],
   "source": [
    "predictor = ['channel_code'\n",
    "             ,'total_bins'\n",
    "             ,'checkin_checkout'\n",
    "             ,'numberofadults_bins'\n",
    "             ,'numberofchildren_bins'\n",
    "            ,'main_product_code'\n",
    "            ,'persontravellingid'\n",
    "            ,'resort_region_code'\n",
    "            ,'resort_type_code'\n",
    "            ,'room_type_booked_code'\n",
    "            #,'roomnights'\n",
    "            ,'season_holidayed_code'\n",
    "            ,'state_code_residence'\n",
    "            ,'state_code_resort'\n",
    "            ,'member_age_buckets'\n",
    "            ,'booking_type_code'\n",
    "            ,'cluster_code'\n",
    "            ,'reservationstatusid_code'\n",
    "            ,'resort_id'\n",
    "            ,'checkin_year'\n",
    "            ,'season'\n",
    "            ,'weekend'\n",
    "            ,'time_of_month'\n",
    "             , 'nights_bin'\n",
    "            ,'diff1']\n",
    "\n",
    "\n",
    "\n",
    "df = train1[predictor]\n",
    "y = train1['amount_spent_per_room_night_scaled']\n",
    "\n"
   ]
  },
  {
   "cell_type": "code",
   "execution_count": 75,
   "metadata": {},
   "outputs": [
    {
     "name": "stderr",
     "output_type": "stream",
     "text": [
      "/anaconda3/lib/python3.6/site-packages/pandas/core/generic.py:4405: SettingWithCopyWarning: \n",
      "A value is trying to be set on a copy of a slice from a DataFrame.\n",
      "Try using .loc[row_indexer,col_indexer] = value instead\n",
      "\n",
      "See the caveats in the documentation: http://pandas.pydata.org/pandas-docs/stable/indexing.html#indexing-view-versus-copy\n",
      "  self[name] = value\n"
     ]
    }
   ],
   "source": [
    "df.checkin_checkout = df.checkin_checkout.astype(int)\n",
    "df.diff1 = df.diff1.astype(int)"
   ]
  },
  {
   "cell_type": "code",
   "execution_count": 76,
   "metadata": {
    "scrolled": true
   },
   "outputs": [
    {
     "name": "stdout",
     "output_type": "stream",
     "text": [
      "<class 'pandas.core.frame.DataFrame'>\n",
      "Int64Index: 102427 entries, 209808 to 64165\n",
      "Data columns (total 24 columns):\n",
      "channel_code                102427 non-null category\n",
      "total_bins                  102427 non-null category\n",
      "checkin_checkout            102427 non-null int64\n",
      "numberofadults_bins         102427 non-null category\n",
      "numberofchildren_bins       102427 non-null category\n",
      "main_product_code           102427 non-null category\n",
      "persontravellingid          102427 non-null category\n",
      "resort_region_code          102427 non-null category\n",
      "resort_type_code            102427 non-null category\n",
      "room_type_booked_code       102427 non-null category\n",
      "season_holidayed_code       102427 non-null category\n",
      "state_code_residence        102427 non-null category\n",
      "state_code_resort           102427 non-null category\n",
      "member_age_buckets          102427 non-null category\n",
      "booking_type_code           102427 non-null int64\n",
      "cluster_code                102427 non-null category\n",
      "reservationstatusid_code    102427 non-null category\n",
      "resort_id                   102427 non-null category\n",
      "checkin_year                102427 non-null category\n",
      "season                      102427 non-null category\n",
      "weekend                     102427 non-null int64\n",
      "time_of_month               102427 non-null int64\n",
      "nights_bin                  102427 non-null category\n",
      "diff1                       102427 non-null int64\n",
      "dtypes: category(19), int64(5)\n",
      "memory usage: 6.6 MB\n"
     ]
    }
   ],
   "source": [
    "df.info()"
   ]
  },
  {
   "cell_type": "code",
   "execution_count": 77,
   "metadata": {
    "scrolled": false
   },
   "outputs": [],
   "source": [
    "cat_columns =  ['channel_code'\n",
    "             ,'total_bins'\n",
    "             ,'numberofadults_bins'\n",
    "             ,'numberofchildren_bins'\n",
    "            ,'main_product_code'\n",
    "            ,'persontravellingid'\n",
    "            ,'resort_region_code'\n",
    "            ,'resort_type_code'\n",
    "            ,'room_type_booked_code'\n",
    "            ,'season_holidayed_code'\n",
    "            ,'state_code_residence'\n",
    "            ,'state_code_resort'\n",
    "            ,'member_age_buckets'\n",
    "            ,'cluster_code'\n",
    "            ,'reservationstatusid_code'\n",
    "            ,'resort_id'\n",
    "            ,'checkin_year'\n",
    "            ,'nights_bin'\n",
    "            ,'season']\n",
    "\n"
   ]
  },
  {
   "cell_type": "code",
   "execution_count": 78,
   "metadata": {
    "scrolled": false
   },
   "outputs": [],
   "source": [
    "df = pd.get_dummies(df, drop_first=False, columns = cat_columns)"
   ]
  },
  {
   "cell_type": "code",
   "execution_count": 79,
   "metadata": {},
   "outputs": [
    {
     "data": {
      "text/plain": [
       "178"
      ]
     },
     "execution_count": 79,
     "metadata": {},
     "output_type": "execute_result"
    }
   ],
   "source": [
    "len(df.columns)"
   ]
  },
  {
   "cell_type": "code",
   "execution_count": 80,
   "metadata": {},
   "outputs": [],
   "source": [
    "from sklearn.ensemble import RandomForestRegressor"
   ]
  },
  {
   "cell_type": "code",
   "execution_count": 81,
   "metadata": {},
   "outputs": [],
   "source": [
    "X_train, X_test, y_train, y_test = train_test_split(df, y, test_size=0.10, random_state=42)\n",
    "X_train = X_train.values\n",
    "y_train = y_train.values.reshape(-1,)"
   ]
  },
  {
   "cell_type": "code",
   "execution_count": 82,
   "metadata": {},
   "outputs": [],
   "source": [
    "rf = RandomForestRegressor(max_depth = 25\n",
    "                           ,n_estimators=500\n",
    "                          ,max_features = 0.8\n",
    "                          ,min_samples_leaf =50\n",
    "                          ,min_samples_split=100\n",
    "                          ,n_jobs=4)"
   ]
  },
  {
   "cell_type": "code",
   "execution_count": 83,
   "metadata": {},
   "outputs": [
    {
     "data": {
      "text/plain": [
       "RandomForestRegressor(bootstrap=True, criterion='mse', max_depth=25,\n",
       "           max_features=0.8, max_leaf_nodes=None,\n",
       "           min_impurity_decrease=0.0, min_impurity_split=None,\n",
       "           min_samples_leaf=50, min_samples_split=100,\n",
       "           min_weight_fraction_leaf=0.0, n_estimators=500, n_jobs=4,\n",
       "           oob_score=False, random_state=None, verbose=0, warm_start=False)"
      ]
     },
     "execution_count": 83,
     "metadata": {},
     "output_type": "execute_result"
    }
   ],
   "source": [
    "rf.fit(X_train,y_train)\n"
   ]
  },
  {
   "cell_type": "code",
   "execution_count": 84,
   "metadata": {},
   "outputs": [
    {
     "data": {
      "text/plain": [
       "1.007407044137323"
      ]
     },
     "execution_count": 84,
     "metadata": {},
     "output_type": "execute_result"
    }
   ],
   "source": [
    "math.sqrt(mean_squared_error(rf.predict(X_test.values),y_test))"
   ]
  },
  {
   "cell_type": "code",
   "execution_count": 85,
   "metadata": {},
   "outputs": [
    {
     "data": {
      "text/html": [
       "<div>\n",
       "<style scoped>\n",
       "    .dataframe tbody tr th:only-of-type {\n",
       "        vertical-align: middle;\n",
       "    }\n",
       "\n",
       "    .dataframe tbody tr th {\n",
       "        vertical-align: top;\n",
       "    }\n",
       "\n",
       "    .dataframe thead th {\n",
       "        text-align: right;\n",
       "    }\n",
       "</style>\n",
       "<table border=\"1\" class=\"dataframe\">\n",
       "  <thead>\n",
       "    <tr style=\"text-align: right;\">\n",
       "      <th></th>\n",
       "      <th>Gini-importance</th>\n",
       "    </tr>\n",
       "  </thead>\n",
       "  <tbody>\n",
       "    <tr>\n",
       "      <th>checkin_checkout</th>\n",
       "      <td>0.261011</td>\n",
       "    </tr>\n",
       "    <tr>\n",
       "      <th>numberofadults_bins_Under2</th>\n",
       "      <td>0.081811</td>\n",
       "    </tr>\n",
       "    <tr>\n",
       "      <th>total_bins_Under2</th>\n",
       "      <td>0.074968</td>\n",
       "    </tr>\n",
       "    <tr>\n",
       "      <th>diff1</th>\n",
       "      <td>0.054435</td>\n",
       "    </tr>\n",
       "    <tr>\n",
       "      <th>persontravellingid_47</th>\n",
       "      <td>0.033635</td>\n",
       "    </tr>\n",
       "    <tr>\n",
       "      <th>nights_bin_twonights</th>\n",
       "      <td>0.029284</td>\n",
       "    </tr>\n",
       "    <tr>\n",
       "      <th>nights_bin_onenight</th>\n",
       "      <td>0.026920</td>\n",
       "    </tr>\n",
       "    <tr>\n",
       "      <th>resort_id_9400f1b21cb527d7fa3d3eabba93557a18ebe7a2ca4e471cfe5e4c5b4ca7f767</th>\n",
       "      <td>0.018068</td>\n",
       "    </tr>\n",
       "    <tr>\n",
       "      <th>numberofadults_bins_Under3</th>\n",
       "      <td>0.016767</td>\n",
       "    </tr>\n",
       "    <tr>\n",
       "      <th>state_code_resort_4</th>\n",
       "      <td>0.016246</td>\n",
       "    </tr>\n",
       "    <tr>\n",
       "      <th>resort_region_code_1</th>\n",
       "      <td>0.015364</td>\n",
       "    </tr>\n",
       "    <tr>\n",
       "      <th>persontravellingid_45</th>\n",
       "      <td>0.015208</td>\n",
       "    </tr>\n",
       "    <tr>\n",
       "      <th>resort_type_code_3</th>\n",
       "      <td>0.013083</td>\n",
       "    </tr>\n",
       "    <tr>\n",
       "      <th>resort_region_code_3</th>\n",
       "      <td>0.012407</td>\n",
       "    </tr>\n",
       "    <tr>\n",
       "      <th>room_type_booked_code_2</th>\n",
       "      <td>0.011682</td>\n",
       "    </tr>\n",
       "    <tr>\n",
       "      <th>numberofadults_bins_Under4</th>\n",
       "      <td>0.011596</td>\n",
       "    </tr>\n",
       "    <tr>\n",
       "      <th>main_product_code_1</th>\n",
       "      <td>0.011359</td>\n",
       "    </tr>\n",
       "    <tr>\n",
       "      <th>nights_bin_threenights</th>\n",
       "      <td>0.010649</td>\n",
       "    </tr>\n",
       "    <tr>\n",
       "      <th>numberofchildren_bins_None</th>\n",
       "      <td>0.010335</td>\n",
       "    </tr>\n",
       "    <tr>\n",
       "      <th>total_bins_Under3</th>\n",
       "      <td>0.010011</td>\n",
       "    </tr>\n",
       "    <tr>\n",
       "      <th>state_code_resort_6</th>\n",
       "      <td>0.009635</td>\n",
       "    </tr>\n",
       "    <tr>\n",
       "      <th>main_product_code_3</th>\n",
       "      <td>0.009564</td>\n",
       "    </tr>\n",
       "    <tr>\n",
       "      <th>main_product_code_2</th>\n",
       "      <td>0.009181</td>\n",
       "    </tr>\n",
       "    <tr>\n",
       "      <th>time_of_month</th>\n",
       "      <td>0.008517</td>\n",
       "    </tr>\n",
       "    <tr>\n",
       "      <th>room_type_booked_code_3</th>\n",
       "      <td>0.008363</td>\n",
       "    </tr>\n",
       "    <tr>\n",
       "      <th>checkin_year_2018</th>\n",
       "      <td>0.007979</td>\n",
       "    </tr>\n",
       "    <tr>\n",
       "      <th>main_product_code_4</th>\n",
       "      <td>0.007800</td>\n",
       "    </tr>\n",
       "    <tr>\n",
       "      <th>resort_id_7902699be42c8a8e46fbbb4501726517e86b22c56a189f7625a6da49081b2451</th>\n",
       "      <td>0.007667</td>\n",
       "    </tr>\n",
       "    <tr>\n",
       "      <th>state_code_residence_8.0</th>\n",
       "      <td>0.007583</td>\n",
       "    </tr>\n",
       "    <tr>\n",
       "      <th>resort_id_49d180ecf56132819571bf39d9b7b342522a2ac6d23c1418d3338251bfe469c8</th>\n",
       "      <td>0.007253</td>\n",
       "    </tr>\n",
       "    <tr>\n",
       "      <th>...</th>\n",
       "      <td>...</td>\n",
       "    </tr>\n",
       "    <tr>\n",
       "      <th>member_age_buckets_D</th>\n",
       "      <td>0.002316</td>\n",
       "    </tr>\n",
       "    <tr>\n",
       "      <th>numberofadults_bins_Under10</th>\n",
       "      <td>0.001989</td>\n",
       "    </tr>\n",
       "    <tr>\n",
       "      <th>channel_code_2</th>\n",
       "      <td>0.001980</td>\n",
       "    </tr>\n",
       "    <tr>\n",
       "      <th>resort_id_d4735e3a265e16eee03f59718b9b5d03019c07d8b6c51f90da3a666eec13ab35</th>\n",
       "      <td>0.001937</td>\n",
       "    </tr>\n",
       "    <tr>\n",
       "      <th>season_just_right</th>\n",
       "      <td>0.001837</td>\n",
       "    </tr>\n",
       "    <tr>\n",
       "      <th>season_summer</th>\n",
       "      <td>0.001774</td>\n",
       "    </tr>\n",
       "    <tr>\n",
       "      <th>state_code_resort_1</th>\n",
       "      <td>0.001718</td>\n",
       "    </tr>\n",
       "    <tr>\n",
       "      <th>cluster_code_E</th>\n",
       "      <td>0.001653</td>\n",
       "    </tr>\n",
       "    <tr>\n",
       "      <th>total_bins_Under5</th>\n",
       "      <td>0.001640</td>\n",
       "    </tr>\n",
       "    <tr>\n",
       "      <th>persontravellingid_4752</th>\n",
       "      <td>0.001604</td>\n",
       "    </tr>\n",
       "    <tr>\n",
       "      <th>resort_id_ef2d127de37b942baad06145e54b0c619a1f22327b2ebbcfbec78f5564afe39d</th>\n",
       "      <td>0.001601</td>\n",
       "    </tr>\n",
       "    <tr>\n",
       "      <th>member_age_buckets_F</th>\n",
       "      <td>0.001570</td>\n",
       "    </tr>\n",
       "    <tr>\n",
       "      <th>member_age_buckets_H</th>\n",
       "      <td>0.001563</td>\n",
       "    </tr>\n",
       "    <tr>\n",
       "      <th>resort_id_535fa30d7e25dd8a49f1536779734ec8286108d115da5045d77f3b4185d8f790</th>\n",
       "      <td>0.001534</td>\n",
       "    </tr>\n",
       "    <tr>\n",
       "      <th>state_code_resort_5</th>\n",
       "      <td>0.001482</td>\n",
       "    </tr>\n",
       "    <tr>\n",
       "      <th>booking_type_code</th>\n",
       "      <td>0.001447</td>\n",
       "    </tr>\n",
       "    <tr>\n",
       "      <th>season_post_monsoon</th>\n",
       "      <td>0.001442</td>\n",
       "    </tr>\n",
       "    <tr>\n",
       "      <th>resort_id_e7f6c011776e8db7cd330b54174fd76f7d0216b612387a5ffcfb81e6f0919683</th>\n",
       "      <td>0.001419</td>\n",
       "    </tr>\n",
       "    <tr>\n",
       "      <th>state_code_residence_1.0</th>\n",
       "      <td>0.001404</td>\n",
       "    </tr>\n",
       "    <tr>\n",
       "      <th>cluster_code_A</th>\n",
       "      <td>0.001367</td>\n",
       "    </tr>\n",
       "    <tr>\n",
       "      <th>total_bins_Under8</th>\n",
       "      <td>0.001349</td>\n",
       "    </tr>\n",
       "    <tr>\n",
       "      <th>member_age_buckets_C</th>\n",
       "      <td>0.001268</td>\n",
       "    </tr>\n",
       "    <tr>\n",
       "      <th>cluster_code_B</th>\n",
       "      <td>0.001238</td>\n",
       "    </tr>\n",
       "    <tr>\n",
       "      <th>resort_id_b17ef6d19c7a5b1ee83b907c595526dcb1eb06db8227d650d5dda0a9f4ce8cd9</th>\n",
       "      <td>0.001201</td>\n",
       "    </tr>\n",
       "    <tr>\n",
       "      <th>state_code_resort_3</th>\n",
       "      <td>0.001152</td>\n",
       "    </tr>\n",
       "    <tr>\n",
       "      <th>cluster_code_D</th>\n",
       "      <td>0.001128</td>\n",
       "    </tr>\n",
       "    <tr>\n",
       "      <th>state_code_resort_2</th>\n",
       "      <td>0.001120</td>\n",
       "    </tr>\n",
       "    <tr>\n",
       "      <th>resort_id_6208ef0f7750c111548cf90b6ea1d0d0a66f6bff40dbef07cb45ec436263c7d6</th>\n",
       "      <td>0.001051</td>\n",
       "    </tr>\n",
       "    <tr>\n",
       "      <th>numberofchildren_bins_Under1</th>\n",
       "      <td>0.001039</td>\n",
       "    </tr>\n",
       "    <tr>\n",
       "      <th>numberofadults_bins_Under20</th>\n",
       "      <td>0.001025</td>\n",
       "    </tr>\n",
       "  </tbody>\n",
       "</table>\n",
       "<p>90 rows × 1 columns</p>\n",
       "</div>"
      ],
      "text/plain": [
       "                                                    Gini-importance\n",
       "checkin_checkout                                           0.261011\n",
       "numberofadults_bins_Under2                                 0.081811\n",
       "total_bins_Under2                                          0.074968\n",
       "diff1                                                      0.054435\n",
       "persontravellingid_47                                      0.033635\n",
       "nights_bin_twonights                                       0.029284\n",
       "nights_bin_onenight                                        0.026920\n",
       "resort_id_9400f1b21cb527d7fa3d3eabba93557a18ebe...         0.018068\n",
       "numberofadults_bins_Under3                                 0.016767\n",
       "state_code_resort_4                                        0.016246\n",
       "resort_region_code_1                                       0.015364\n",
       "persontravellingid_45                                      0.015208\n",
       "resort_type_code_3                                         0.013083\n",
       "resort_region_code_3                                       0.012407\n",
       "room_type_booked_code_2                                    0.011682\n",
       "numberofadults_bins_Under4                                 0.011596\n",
       "main_product_code_1                                        0.011359\n",
       "nights_bin_threenights                                     0.010649\n",
       "numberofchildren_bins_None                                 0.010335\n",
       "total_bins_Under3                                          0.010011\n",
       "state_code_resort_6                                        0.009635\n",
       "main_product_code_3                                        0.009564\n",
       "main_product_code_2                                        0.009181\n",
       "time_of_month                                              0.008517\n",
       "room_type_booked_code_3                                    0.008363\n",
       "checkin_year_2018                                          0.007979\n",
       "main_product_code_4                                        0.007800\n",
       "resort_id_7902699be42c8a8e46fbbb4501726517e86b2...         0.007667\n",
       "state_code_residence_8.0                                   0.007583\n",
       "resort_id_49d180ecf56132819571bf39d9b7b342522a2...         0.007253\n",
       "...                                                             ...\n",
       "member_age_buckets_D                                       0.002316\n",
       "numberofadults_bins_Under10                                0.001989\n",
       "channel_code_2                                             0.001980\n",
       "resort_id_d4735e3a265e16eee03f59718b9b5d03019c0...         0.001937\n",
       "season_just_right                                          0.001837\n",
       "season_summer                                              0.001774\n",
       "state_code_resort_1                                        0.001718\n",
       "cluster_code_E                                             0.001653\n",
       "total_bins_Under5                                          0.001640\n",
       "persontravellingid_4752                                    0.001604\n",
       "resort_id_ef2d127de37b942baad06145e54b0c619a1f2...         0.001601\n",
       "member_age_buckets_F                                       0.001570\n",
       "member_age_buckets_H                                       0.001563\n",
       "resort_id_535fa30d7e25dd8a49f1536779734ec828610...         0.001534\n",
       "state_code_resort_5                                        0.001482\n",
       "booking_type_code                                          0.001447\n",
       "season_post_monsoon                                        0.001442\n",
       "resort_id_e7f6c011776e8db7cd330b54174fd76f7d021...         0.001419\n",
       "state_code_residence_1.0                                   0.001404\n",
       "cluster_code_A                                             0.001367\n",
       "total_bins_Under8                                          0.001349\n",
       "member_age_buckets_C                                       0.001268\n",
       "cluster_code_B                                             0.001238\n",
       "resort_id_b17ef6d19c7a5b1ee83b907c595526dcb1eb0...         0.001201\n",
       "state_code_resort_3                                        0.001152\n",
       "cluster_code_D                                             0.001128\n",
       "state_code_resort_2                                        0.001120\n",
       "resort_id_6208ef0f7750c111548cf90b6ea1d0d0a66f6...         0.001051\n",
       "numberofchildren_bins_Under1                               0.001039\n",
       "numberofadults_bins_Under20                                0.001025\n",
       "\n",
       "[90 rows x 1 columns]"
      ]
     },
     "execution_count": 85,
     "metadata": {},
     "output_type": "execute_result"
    }
   ],
   "source": [
    "feats = {} # a dict to hold feature_name: feature_importance\n",
    "for feature, importance in zip(X_test.columns, rf.feature_importances_):\n",
    "    feats[feature] = importance #add the name/value pair \n",
    "importances = pd.DataFrame.from_dict(feats, orient='index').rename(columns={0: 'Gini-importance'})\n",
    "#importances.sort_values(by='Gini-importance',ascending=False)\n",
    "importances[importances['Gini-importance']>0.001].sort_values(by='Gini-importance',ascending=False)\n",
    "\n"
   ]
  },
  {
   "cell_type": "code",
   "execution_count": 86,
   "metadata": {},
   "outputs": [],
   "source": [
    "to_keep = importances[importances['Gini-importance']>0.0005].index\n",
    "df_keep = df[to_keep]"
   ]
  },
  {
   "cell_type": "code",
   "execution_count": 87,
   "metadata": {
    "scrolled": true
   },
   "outputs": [
    {
     "data": {
      "text/plain": [
       "105"
      ]
     },
     "execution_count": 87,
     "metadata": {},
     "output_type": "execute_result"
    }
   ],
   "source": [
    "len(to_keep)"
   ]
  },
  {
   "cell_type": "code",
   "execution_count": 88,
   "metadata": {},
   "outputs": [],
   "source": [
    "X_train, X_test, y_train, y_test = train_test_split(df_keep, y, test_size=0.10, random_state=42)\n",
    "X_train = X_train.values\n",
    "y_train = y_train.values.reshape(-1,)"
   ]
  },
  {
   "cell_type": "code",
   "execution_count": 89,
   "metadata": {},
   "outputs": [],
   "source": [
    "rf1 = RandomForestRegressor(max_depth = 10\n",
    "                           ,n_estimators=500\n",
    "                          ,max_features = 0.8\n",
    "                          ,min_samples_leaf =10\n",
    "                          ,min_samples_split=10\n",
    "                          ,n_jobs=4)"
   ]
  },
  {
   "cell_type": "code",
   "execution_count": 90,
   "metadata": {},
   "outputs": [
    {
     "data": {
      "text/plain": [
       "RandomForestRegressor(bootstrap=True, criterion='mse', max_depth=10,\n",
       "           max_features=0.8, max_leaf_nodes=None,\n",
       "           min_impurity_decrease=0.0, min_impurity_split=None,\n",
       "           min_samples_leaf=10, min_samples_split=10,\n",
       "           min_weight_fraction_leaf=0.0, n_estimators=500, n_jobs=4,\n",
       "           oob_score=False, random_state=None, verbose=0, warm_start=False)"
      ]
     },
     "execution_count": 90,
     "metadata": {},
     "output_type": "execute_result"
    }
   ],
   "source": [
    "rf1.fit(X_train,y_train)\n"
   ]
  },
  {
   "cell_type": "code",
   "execution_count": 91,
   "metadata": {},
   "outputs": [
    {
     "data": {
      "text/plain": [
       "1.0124712548635089"
      ]
     },
     "execution_count": 91,
     "metadata": {},
     "output_type": "execute_result"
    }
   ],
   "source": [
    "pred = rf1.predict(X_test)\n",
    "math.sqrt(mean_squared_error(pred,y_test))"
   ]
  },
  {
   "cell_type": "code",
   "execution_count": 92,
   "metadata": {},
   "outputs": [
    {
     "data": {
      "text/plain": [
       "0.9713759776819726"
      ]
     },
     "execution_count": 92,
     "metadata": {},
     "output_type": "execute_result"
    }
   ],
   "source": [
    "math.sqrt(mean_squared_error(rf1.predict(X_train),y_train))"
   ]
  },
  {
   "cell_type": "code",
   "execution_count": 93,
   "metadata": {},
   "outputs": [
    {
     "data": {
      "text/plain": [
       "XGBRegressor(base_score=0.5, booster='gbtree', colsample_bylevel=0.8,\n",
       "       colsample_bytree=1, gamma=0, importance_type='gain',\n",
       "       learning_rate=0.1, max_delta_step=0, max_depth=5,\n",
       "       min_child_weight=1, missing=None, n_estimators=100, n_jobs=4,\n",
       "       nthread=None, objective='reg:linear', random_state=0, reg_alpha=0.5,\n",
       "       reg_lambda=1, scale_pos_weight=1, seed=None, silent=True,\n",
       "       subsample=0.8)"
      ]
     },
     "execution_count": 93,
     "metadata": {},
     "output_type": "execute_result"
    }
   ],
   "source": [
    "X_train, X_test, y_train, y_test = train_test_split(df_keep, y, test_size=0.05, random_state=42)\n",
    "X_train = X_train.values\n",
    "y_train = y_train.values.reshape(-1,)\n",
    "xgb1 = XGBRegressor(n_jobs=4\n",
    "                  , n_estimators=100\n",
    "                  , learning_rate=0.1\n",
    "                  ,max_depth = 5\n",
    "                   , objective='reg:linear'\n",
    "                   ,booster = 'gbtree'\n",
    "                   , subsample = 0.8\n",
    "                   ,colsample_bylevel=0.8\n",
    "                   ,colsample_bytree=1\n",
    "                   ,reg_alpha=0.5\n",
    "                   ,reg_lambda =1\n",
    "                  )\n",
    "xgb1.fit(X_train,y_train)"
   ]
  },
  {
   "cell_type": "code",
   "execution_count": 94,
   "metadata": {},
   "outputs": [
    {
     "data": {
      "text/plain": [
       "0.9827907067702937"
      ]
     },
     "execution_count": 94,
     "metadata": {},
     "output_type": "execute_result"
    }
   ],
   "source": [
    "pred1 = xgb1.predict(X_test.values)\n",
    "math.sqrt(mean_squared_error(pred1,y_test))"
   ]
  },
  {
   "cell_type": "markdown",
   "metadata": {},
   "source": [
    "Since XGBoost is performing better than random forest, using cross validation on XGboost"
   ]
  },
  {
   "cell_type": "code",
   "execution_count": 95,
   "metadata": {},
   "outputs": [],
   "source": [
    "parameter_candidates = [\n",
    "  {'max_depth': [3,5,8]\n",
    "   ,'colsample_bylevel': [0.5,0.8]\n",
    "   ,'colsample_bytree': [0.5,0.8]\n",
    "   ,'reg_alpha': [0,0.5,1]\n",
    "    ,'reg_lambda':[0,0.5,1]\n",
    "  }\n",
    "]"
   ]
  },
  {
   "cell_type": "code",
   "execution_count": 96,
   "metadata": {},
   "outputs": [],
   "source": [
    "clf = GridSearchCV(estimator=XGBRegressor(n_jobs=-1\n",
    "                  , n_estimators=100\n",
    "                  , learning_rate=0.1, objective='reg:linear'\n",
    "                   ,booster = 'gbtree'), cv = KFold(n_splits=10,shuffle=True),\n",
    "                   param_grid=parameter_candidates, n_jobs=4)"
   ]
  },
  {
   "cell_type": "code",
   "execution_count": 97,
   "metadata": {},
   "outputs": [
    {
     "data": {
      "text/plain": [
       "GridSearchCV(cv=KFold(n_splits=10, random_state=None, shuffle=True),\n",
       "       error_score='raise-deprecating',\n",
       "       estimator=XGBRegressor(base_score=0.5, booster='gbtree', colsample_bylevel=1,\n",
       "       colsample_bytree=1, gamma=0, importance_type='gain',\n",
       "       learning_rate=0.1, max_delta_step=0, max_depth=3,\n",
       "       min_child_weight=1, missing=None, n_estimators=100, n_jobs=-1,\n",
       "       nthread=None, objective='reg:linear', random_state=0, reg_alpha=0,\n",
       "       reg_lambda=1, scale_pos_weight=1, seed=None, silent=True,\n",
       "       subsample=1),\n",
       "       fit_params=None, iid='warn', n_jobs=4,\n",
       "       param_grid=[{'max_depth': [3, 5, 8], 'colsample_bylevel': [0.5, 0.8], 'colsample_bytree': [0.5, 0.8], 'reg_alpha': [0, 0.5, 1], 'reg_lambda': [0, 0.5, 1]}],\n",
       "       pre_dispatch='2*n_jobs', refit=True, return_train_score='warn',\n",
       "       scoring=None, verbose=0)"
      ]
     },
     "execution_count": 97,
     "metadata": {},
     "output_type": "execute_result"
    }
   ],
   "source": [
    "clf.fit(X_train,y_train)"
   ]
  },
  {
   "cell_type": "code",
   "execution_count": 98,
   "metadata": {},
   "outputs": [
    {
     "data": {
      "text/plain": [
       "{'colsample_bylevel': 0.8,\n",
       " 'colsample_bytree': 0.8,\n",
       " 'max_depth': 5,\n",
       " 'reg_alpha': 1,\n",
       " 'reg_lambda': 1}"
      ]
     },
     "execution_count": 98,
     "metadata": {},
     "output_type": "execute_result"
    }
   ],
   "source": [
    "clf.best_params_"
   ]
  },
  {
   "cell_type": "code",
   "execution_count": 105,
   "metadata": {},
   "outputs": [
    {
     "data": {
      "text/plain": [
       "XGBRegressor(base_score=0.5, booster='gbtree', colsample_bylevel=0.8,\n",
       "       colsample_bytree=0.5, gamma=0, importance_type='gain',\n",
       "       learning_rate=0.1, max_delta_step=0, max_depth=5,\n",
       "       min_child_weight=1, missing=None, n_estimators=1000, n_jobs=-1,\n",
       "       nthread=None, objective='reg:linear', random_state=0, reg_alpha=1,\n",
       "       reg_lambda=1, scale_pos_weight=1, seed=None, silent=True,\n",
       "       subsample=0.8)"
      ]
     },
     "execution_count": 105,
     "metadata": {},
     "output_type": "execute_result"
    }
   ],
   "source": [
    "X_train, X_test, y_train, y_test = train_test_split(df_keep, y, test_size=0.05, random_state=42)\n",
    "X_train = X_train.values\n",
    "y_train = y_train.values.reshape(-1,)\n",
    "xgbcv1 = XGBRegressor(n_jobs=-1\n",
    "                  , n_estimators=1000\n",
    "                  , learning_rate=0.1\n",
    "                  ,max_depth = 5\n",
    "                   , objective='reg:linear'\n",
    "                   ,booster = 'gbtree'\n",
    "                   , subsample = 0.8\n",
    "                   ,colsample_bylevel=0.8\n",
    "                   ,colsample_bytree=0.5\n",
    "                   ,reg_alpha=1\n",
    "                   ,reg_lambda =1\n",
    "                  )\n",
    "xgbcv1.fit(X_train,y_train)"
   ]
  },
  {
   "cell_type": "code",
   "execution_count": 106,
   "metadata": {},
   "outputs": [
    {
     "data": {
      "text/plain": [
       "0.9808445911990425"
      ]
     },
     "execution_count": 106,
     "metadata": {},
     "output_type": "execute_result"
    }
   ],
   "source": [
    "math.sqrt(mean_squared_error(xgbcv1.predict(X_test.values),y_test))"
   ]
  },
  {
   "cell_type": "code",
   "execution_count": 107,
   "metadata": {},
   "outputs": [
    {
     "data": {
      "text/plain": [
       "0.9005657086678804"
      ]
     },
     "execution_count": 107,
     "metadata": {},
     "output_type": "execute_result"
    }
   ],
   "source": [
    "math.sqrt(mean_squared_error(xgbcv1.predict(X_train),y_train))"
   ]
  },
  {
   "cell_type": "code",
   "execution_count": 108,
   "metadata": {},
   "outputs": [],
   "source": [
    "test = pd.read_csv('test.csv',\n",
    "                   parse_dates=[1,2,3], \n",
    "                    dayfirst=True)\n",
    "reservation_id = test.reservation_id"
   ]
  },
  {
   "cell_type": "code",
   "execution_count": 109,
   "metadata": {},
   "outputs": [],
   "source": [
    "#Preprocessing the test set:\n",
    "def preprocessTest(test):\n",
    "    \n",
    "    #removing unused columns\n",
    "    test.drop('memberid',axis=1,inplace =True)\n",
    "    test.drop('reservation_id',axis=1,inplace =True)\n",
    "    \n",
    "    # Filling na values similar to the training set\n",
    "    test.state_code_residence.fillna(method = 'ffill',inplace =True)\n",
    "    test.season_holidayed_code.fillna(method = 'ffill',inplace= True)\n",
    "    \n",
    "    #Workign with the checkin date\n",
    "    test['checkin_year'] = test['checkin_date'].dt.year\n",
    "    test['checkin_month'] = test['checkin_date'].dt.month\n",
    "    test['checkin_day'] = test['checkin_date'].dt.day\n",
    "    test['checkin_dow'] = test['checkin_date'].dt.dayofweek\n",
    "    test['season'] = 0\n",
    "    \n",
    "    #working with the season \n",
    "    test.loc[test['checkin_month'].isin(winter),'season'] = 'winter'\n",
    "    test.loc[test['checkin_month'].isin(summer),'season'] = 'summer'\n",
    "    test.loc[test['checkin_month'].isin(monsoon),'season'] = 'monsoon'\n",
    "    test.loc[test['checkin_month'].isin(post_monsoon),'season'] = 'post_monsoon'\n",
    "    test.loc[test['checkin_month'].isin(just_right),'season'] = 'just_right'\n",
    "\n",
    "    test['season'] = test['season'].astype('category')\n",
    "\n",
    "    #Checking if its weekday or weekend\n",
    "    test['weekend'] = 0\n",
    "    test.loc[test['checkin_dow'].isin(weekday),'weekend'] = 1\n",
    "    \n",
    "    #Checking what time of the month it is\n",
    "    test['time_of_month']=0\n",
    "    test.loc[test['checkin_day'].isin(end),'time_of_month'] = 1\n",
    "\n",
    "    \n",
    "    \n",
    "    \n",
    "    #Working with the booking and checkin date\n",
    "    test['diff1'] = test.booking_date-test.checkin_date\n",
    "    test['diff1'] = test['diff1'].astype(str)\n",
    "    test['diff1']= test['diff1'].str.split(' ').str[0]\n",
    "    test['diff1'] = test['diff1'].astype(int) * -1\n",
    "    test.loc[(test['diff1']<0),'diff1'] = 0\n",
    "\n",
    "    \n",
    "    #working with the number of days customer stayed for\n",
    "    test['checkin_checkout'] = test.checkout_date-test.checkin_date\n",
    "    test['checkin_checkout'] = test['checkin_checkout'].astype(str)\n",
    "    test['checkin_checkout']= test['checkin_checkout'].str.split(' ').str[0]\n",
    "    test['checkin_checkout'] = test['checkin_checkout'].astype(int)\n",
    "\n",
    "\n",
    "\n",
    "    #Binning Number of adults::\n",
    "    cut_points = [2,3,4,6,10,20]\n",
    "    labels = [\"Under2\",\"Under3\",\"Under4\",'Under6','Under10','Under20','Above20']\n",
    "    test['numberofadults_bins'] = binning(test[\"numberofadults\"], cut_points, labels)\n",
    "    test['numberofadults_bins'] =test['numberofadults_bins'].astype('category')\n",
    "\n",
    "\n",
    "\n",
    "    #Binning Number of children:\n",
    "    cut_points = [0.9,1,2,4]\n",
    "    labels = [\"None\",\"Under1\",'Under2',\"Under4\",'Above7']\n",
    "    test['numberofchildren_bins'] = binning(test[\"numberofchildren\"], cut_points, labels)\n",
    "    test['numberofchildren_bins'] =test['numberofchildren_bins'].astype('category')\n",
    "\n",
    "\n",
    "\n",
    "\n",
    "\n",
    "    #binning totoal number of people in the group\n",
    "    cut_points = [2,3,4,5,8]\n",
    "    labels = [\"Under2\",\"Under3\",'Under4',\"Under5\",\"Under8\",'Above8']\n",
    "    test['total_bins'] = binning(test[\"total_pax\"], cut_points, labels)\n",
    "    test['total_bins'] =test['total_bins'].astype('category')\n",
    "\n",
    "    #Binning Number of nights spent:\n",
    "    cut_points = [1,2,3,4,5,6,8,10,15,20]\n",
    "    labels = [\"onenight\",\"twonights\",'threenights',\"fournights\",'fivenights','sixnights'\n",
    "              ,'lessthan8','lessthan10','lessthan15','lessthan20','morethan20']\n",
    "    test['nights_bin'] = binning(test[\"roomnights\"], cut_points, labels)\n",
    "    test['nights_bin'] =test['nights_bin'].astype('category')\n",
    "\n",
    "    \n",
    "    #Since there were only 2 booking code types converting the column to boolean\n",
    "    test.loc[test['booking_type_code']==2,'booking_type_code'] = 0\n",
    "\n",
    "\n",
    "    \n",
    "    #converting rest of the columns to categorical variables\n",
    "    test['cluster_code'] = test['cluster_code'].astype('category')\n",
    "    test['reservationstatusid_code'] = test['reservationstatusid_code'].astype('category')\n",
    "    test['resort_id'] = test['resort_id'].astype('category')\n",
    "    test['member_age_buckets'] = test['member_age_buckets'].astype('category')\n",
    "    test['channel_code'] = test['channel_code'].astype('category')\n",
    "    test['main_product_code'] = test['main_product_code'].astype('category')\n",
    "    test['persontravellingid'] = test['persontravellingid'].astype('category')\n",
    "    test['resort_region_code'] = test['resort_region_code'].astype('category')\n",
    "    test['resort_type_code'] = test['resort_type_code'].astype('category')\n",
    "    test['room_type_booked_code'] = test['room_type_booked_code'].astype('category')\n",
    "    test['season_holidayed_code'] = test['season_holidayed_code'].astype('category')\n",
    "    test['state_code_residence'] = test['state_code_residence'].astype('category')\n",
    "    test['state_code_resort'] = test['state_code_resort'].astype('category')\n",
    "\n",
    "\n",
    "    return test\n",
    "\n"
   ]
  },
  {
   "cell_type": "code",
   "execution_count": 110,
   "metadata": {},
   "outputs": [],
   "source": [
    "test = preprocessTest(test)"
   ]
  },
  {
   "cell_type": "code",
   "execution_count": 111,
   "metadata": {},
   "outputs": [],
   "source": [
    "#df1.checkin_checkout = df1.checkin_checkout.astype(int) #it didnt convert to int somehow\n",
    "df1 = test[predictor]\n",
    "df1 = pd.get_dummies(df1, drop_first=False, columns = cat_columns)\n",
    "df1_keep = df1[to_keep] #using the same columns for the machine learning process\n"
   ]
  },
  {
   "cell_type": "code",
   "execution_count": 112,
   "metadata": {},
   "outputs": [],
   "source": [
    "predictions = xgbcv1.predict(df1_keep.values)"
   ]
  },
  {
   "cell_type": "code",
   "execution_count": 113,
   "metadata": {},
   "outputs": [],
   "source": [
    "submission = pd.DataFrame({'reservation_id': reservation_id, 'amount_spent_per_room_night_scaled': predictions})"
   ]
  },
  {
   "cell_type": "code",
   "execution_count": null,
   "metadata": {},
   "outputs": [],
   "source": [
    "submission.to_csv('submission.csv')"
   ]
  }
 ],
 "metadata": {
  "kernelspec": {
   "display_name": "Python 3",
   "language": "python",
   "name": "python3"
  },
  "language_info": {
   "codemirror_mode": {
    "name": "ipython",
    "version": 3
   },
   "file_extension": ".py",
   "mimetype": "text/x-python",
   "name": "python",
   "nbconvert_exporter": "python",
   "pygments_lexer": "ipython3",
   "version": "3.6.7"
  }
 },
 "nbformat": 4,
 "nbformat_minor": 2
}
